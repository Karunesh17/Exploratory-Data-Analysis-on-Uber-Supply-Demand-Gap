{
 "cells": [
  {
   "cell_type": "markdown",
   "id": "9e1e7ba2",
   "metadata": {},
   "source": [
    "# Uber Supply-Demand Gap Analysis\n",
    "\n",
    "This notebook presents an exploratory data analysis (EDA) of Uber ride request data to understand and address the supply-demand gap. The analysis focuses on identifying peak demand periods, cancellation trends, and driver availability issues.\n"
   ]
  },
  {
   "cell_type": "code",
   "execution_count": 1,
   "id": "a5fdc9ea",
   "metadata": {},
   "outputs": [
    {
     "name": "stdout",
     "output_type": "stream",
     "text": [
      "Unexpected exception formatting exception. Falling back to standard exception\n"
     ]
    },
    {
     "name": "stderr",
     "output_type": "stream",
     "text": [
      "Traceback (most recent call last):\n",
      "  File \"/home/karunesh/AIML_projects/7sem/DATA_ANALYSYS_PROJECTS/UBER_SUPPLY_DEMAND_PROJECT/.venv/lib/python3.10/site-packages/IPython/core/interactiveshell.py\", line 3579, in run_code\n",
      "  File \"/tmp/ipykernel_1501/3485985421.py\", line 1, in <module>\n",
      "    import pandas as pd\n",
      "ModuleNotFoundError: No module named 'pandas'\n",
      "\n",
      "During handling of the above exception, another exception occurred:\n",
      "\n",
      "Traceback (most recent call last):\n",
      "  File \"/home/karunesh/AIML_projects/7sem/DATA_ANALYSYS_PROJECTS/UBER_SUPPLY_DEMAND_PROJECT/.venv/lib/python3.10/site-packages/pygments/styles/__init__.py\", line 45, in get_style_by_name\n",
      "ModuleNotFoundError: No module named 'pygments.styles.default'\n",
      "\n",
      "During handling of the above exception, another exception occurred:\n",
      "\n",
      "Traceback (most recent call last):\n",
      "  File \"/home/karunesh/AIML_projects/7sem/DATA_ANALYSYS_PROJECTS/UBER_SUPPLY_DEMAND_PROJECT/.venv/lib/python3.10/site-packages/IPython/core/interactiveshell.py\", line 2170, in showtraceback\n",
      "  File \"/home/karunesh/AIML_projects/7sem/DATA_ANALYSYS_PROJECTS/UBER_SUPPLY_DEMAND_PROJECT/.venv/lib/python3.10/site-packages/IPython/core/ultratb.py\", line 1457, in structured_traceback\n",
      "  File \"/home/karunesh/AIML_projects/7sem/DATA_ANALYSYS_PROJECTS/UBER_SUPPLY_DEMAND_PROJECT/.venv/lib/python3.10/site-packages/IPython/core/ultratb.py\", line 1348, in structured_traceback\n",
      "  File \"/home/karunesh/AIML_projects/7sem/DATA_ANALYSYS_PROJECTS/UBER_SUPPLY_DEMAND_PROJECT/.venv/lib/python3.10/site-packages/IPython/core/ultratb.py\", line 1195, in structured_traceback\n",
      "  File \"/home/karunesh/AIML_projects/7sem/DATA_ANALYSYS_PROJECTS/UBER_SUPPLY_DEMAND_PROJECT/.venv/lib/python3.10/site-packages/IPython/core/ultratb.py\", line 1085, in format_exception_as_a_whole\n",
      "  File \"/home/karunesh/AIML_projects/7sem/DATA_ANALYSYS_PROJECTS/UBER_SUPPLY_DEMAND_PROJECT/.venv/lib/python3.10/site-packages/IPython/core/ultratb.py\", line 1136, in get_records\n",
      "  File \"/home/karunesh/AIML_projects/7sem/DATA_ANALYSYS_PROJECTS/UBER_SUPPLY_DEMAND_PROJECT/.venv/lib/python3.10/site-packages/pygments/styles/__init__.py\", line 47, in get_style_by_name\n",
      "pygments.util.ClassNotFound: Could not find style module 'pygments.styles.default', though it should be builtin.\n"
     ]
    }
   ],
   "source": [
    "import pandas as pd\n",
    "import matplotlib.pyplot as plt\n",
    "import seaborn as sns\n",
    "\n",
    "sns.set_style(\"whitegrid\")\n",
    "plt.rcParams[\"figure.figsize\"] = (12, 6)\n"
   ]
  },
  {
   "cell_type": "code",
   "execution_count": 2,
   "id": "74cb562b",
   "metadata": {},
   "outputs": [
    {
     "name": "stdout",
     "output_type": "stream",
     "text": [
      "Unexpected exception formatting exception. Falling back to standard exception\n"
     ]
    },
    {
     "name": "stderr",
     "output_type": "stream",
     "text": [
      "Traceback (most recent call last):\n",
      "  File \"/home/karunesh/AIML_projects/7sem/DATA_ANALYSYS_PROJECTS/UBER_SUPPLY_DEMAND_PROJECT/.venv/lib/python3.10/site-packages/IPython/core/interactiveshell.py\", line 3579, in run_code\n",
      "  File \"/tmp/ipykernel_1501/439083897.py\", line 1, in <module>\n",
      "    df = pd.read_csv(\"uber_cleaned_data.csv\")\n",
      "NameError: name 'pd' is not defined\n",
      "\n",
      "During handling of the above exception, another exception occurred:\n",
      "\n",
      "Traceback (most recent call last):\n",
      "  File \"/home/karunesh/AIML_projects/7sem/DATA_ANALYSYS_PROJECTS/UBER_SUPPLY_DEMAND_PROJECT/.venv/lib/python3.10/site-packages/pygments/styles/__init__.py\", line 45, in get_style_by_name\n",
      "ModuleNotFoundError: No module named 'pygments.styles.default'\n",
      "\n",
      "During handling of the above exception, another exception occurred:\n",
      "\n",
      "Traceback (most recent call last):\n",
      "  File \"/home/karunesh/AIML_projects/7sem/DATA_ANALYSYS_PROJECTS/UBER_SUPPLY_DEMAND_PROJECT/.venv/lib/python3.10/site-packages/IPython/core/interactiveshell.py\", line 2170, in showtraceback\n",
      "  File \"/home/karunesh/AIML_projects/7sem/DATA_ANALYSYS_PROJECTS/UBER_SUPPLY_DEMAND_PROJECT/.venv/lib/python3.10/site-packages/IPython/core/ultratb.py\", line 1457, in structured_traceback\n",
      "  File \"/home/karunesh/AIML_projects/7sem/DATA_ANALYSYS_PROJECTS/UBER_SUPPLY_DEMAND_PROJECT/.venv/lib/python3.10/site-packages/IPython/core/ultratb.py\", line 1348, in structured_traceback\n",
      "  File \"/home/karunesh/AIML_projects/7sem/DATA_ANALYSYS_PROJECTS/UBER_SUPPLY_DEMAND_PROJECT/.venv/lib/python3.10/site-packages/IPython/core/ultratb.py\", line 1195, in structured_traceback\n",
      "  File \"/home/karunesh/AIML_projects/7sem/DATA_ANALYSYS_PROJECTS/UBER_SUPPLY_DEMAND_PROJECT/.venv/lib/python3.10/site-packages/IPython/core/ultratb.py\", line 1085, in format_exception_as_a_whole\n",
      "  File \"/home/karunesh/AIML_projects/7sem/DATA_ANALYSYS_PROJECTS/UBER_SUPPLY_DEMAND_PROJECT/.venv/lib/python3.10/site-packages/IPython/core/ultratb.py\", line 1136, in get_records\n",
      "  File \"/home/karunesh/AIML_projects/7sem/DATA_ANALYSYS_PROJECTS/UBER_SUPPLY_DEMAND_PROJECT/.venv/lib/python3.10/site-packages/pygments/styles/__init__.py\", line 47, in get_style_by_name\n",
      "pygments.util.ClassNotFound: Could not find style module 'pygments.styles.default', though it should be builtin.\n"
     ]
    }
   ],
   "source": [
    "df = pd.read_csv(\"uber_cleaned_data.csv\")\n",
    "df.head()\n"
   ]
  },
  {
   "cell_type": "code",
   "execution_count": 3,
   "id": "1001e171",
   "metadata": {},
   "outputs": [
    {
     "name": "stdout",
     "output_type": "stream",
     "text": [
      "Unexpected exception formatting exception. Falling back to standard exception\n"
     ]
    },
    {
     "name": "stderr",
     "output_type": "stream",
     "text": [
      "Traceback (most recent call last):\n",
      "  File \"/home/karunesh/AIML_projects/7sem/DATA_ANALYSYS_PROJECTS/UBER_SUPPLY_DEMAND_PROJECT/.venv/lib/python3.10/site-packages/IPython/core/interactiveshell.py\", line 3579, in run_code\n",
      "  File \"/tmp/ipykernel_1501/1827809986.py\", line 1, in <module>\n",
      "    df.info()\n",
      "NameError: name 'df' is not defined\n",
      "\n",
      "During handling of the above exception, another exception occurred:\n",
      "\n",
      "Traceback (most recent call last):\n",
      "  File \"/home/karunesh/AIML_projects/7sem/DATA_ANALYSYS_PROJECTS/UBER_SUPPLY_DEMAND_PROJECT/.venv/lib/python3.10/site-packages/pygments/styles/__init__.py\", line 45, in get_style_by_name\n",
      "ModuleNotFoundError: No module named 'pygments.styles.default'\n",
      "\n",
      "During handling of the above exception, another exception occurred:\n",
      "\n",
      "Traceback (most recent call last):\n",
      "  File \"/home/karunesh/AIML_projects/7sem/DATA_ANALYSYS_PROJECTS/UBER_SUPPLY_DEMAND_PROJECT/.venv/lib/python3.10/site-packages/IPython/core/interactiveshell.py\", line 2170, in showtraceback\n",
      "  File \"/home/karunesh/AIML_projects/7sem/DATA_ANALYSYS_PROJECTS/UBER_SUPPLY_DEMAND_PROJECT/.venv/lib/python3.10/site-packages/IPython/core/ultratb.py\", line 1457, in structured_traceback\n",
      "  File \"/home/karunesh/AIML_projects/7sem/DATA_ANALYSYS_PROJECTS/UBER_SUPPLY_DEMAND_PROJECT/.venv/lib/python3.10/site-packages/IPython/core/ultratb.py\", line 1348, in structured_traceback\n",
      "  File \"/home/karunesh/AIML_projects/7sem/DATA_ANALYSYS_PROJECTS/UBER_SUPPLY_DEMAND_PROJECT/.venv/lib/python3.10/site-packages/IPython/core/ultratb.py\", line 1195, in structured_traceback\n",
      "  File \"/home/karunesh/AIML_projects/7sem/DATA_ANALYSYS_PROJECTS/UBER_SUPPLY_DEMAND_PROJECT/.venv/lib/python3.10/site-packages/IPython/core/ultratb.py\", line 1085, in format_exception_as_a_whole\n",
      "  File \"/home/karunesh/AIML_projects/7sem/DATA_ANALYSYS_PROJECTS/UBER_SUPPLY_DEMAND_PROJECT/.venv/lib/python3.10/site-packages/IPython/core/ultratb.py\", line 1136, in get_records\n",
      "  File \"/home/karunesh/AIML_projects/7sem/DATA_ANALYSYS_PROJECTS/UBER_SUPPLY_DEMAND_PROJECT/.venv/lib/python3.10/site-packages/pygments/styles/__init__.py\", line 47, in get_style_by_name\n",
      "pygments.util.ClassNotFound: Could not find style module 'pygments.styles.default', though it should be builtin.\n"
     ]
    }
   ],
   "source": [
    "df.info()\n",
    "df.describe()\n",
    "df.isnull().sum()\n",
    "\n",
    "# Convert timestamps to datetime\n",
    "df['Request timestamp'] = pd.to_datetime(df['Request timestamp'], dayfirst=True, errors='coerce')\n",
    "df['Drop timestamp'] = pd.to_datetime(df['Drop timestamp'], dayfirst=True, errors='coerce')\n",
    "\n",
    "# Drop rows with null request timestamps\n",
    "df = df[df['Request timestamp'].notnull()]\n"
   ]
  },
  {
   "cell_type": "code",
   "execution_count": 4,
   "id": "72c749e9",
   "metadata": {},
   "outputs": [
    {
     "name": "stdout",
     "output_type": "stream",
     "text": [
      "Unexpected exception formatting exception. Falling back to standard exception\n"
     ]
    },
    {
     "name": "stderr",
     "output_type": "stream",
     "text": [
      "Traceback (most recent call last):\n",
      "  File \"/home/karunesh/AIML_projects/7sem/DATA_ANALYSYS_PROJECTS/UBER_SUPPLY_DEMAND_PROJECT/.venv/lib/python3.10/site-packages/IPython/core/interactiveshell.py\", line 3579, in run_code\n",
      "  File \"/tmp/ipykernel_1501/1327196212.py\", line 2, in <module>\n",
      "    df['hour'] = df['Request timestamp'].dt.hour\n",
      "NameError: name 'df' is not defined\n",
      "\n",
      "During handling of the above exception, another exception occurred:\n",
      "\n",
      "Traceback (most recent call last):\n",
      "  File \"/home/karunesh/AIML_projects/7sem/DATA_ANALYSYS_PROJECTS/UBER_SUPPLY_DEMAND_PROJECT/.venv/lib/python3.10/site-packages/pygments/styles/__init__.py\", line 45, in get_style_by_name\n",
      "ModuleNotFoundError: No module named 'pygments.styles.default'\n",
      "\n",
      "During handling of the above exception, another exception occurred:\n",
      "\n",
      "Traceback (most recent call last):\n",
      "  File \"/home/karunesh/AIML_projects/7sem/DATA_ANALYSYS_PROJECTS/UBER_SUPPLY_DEMAND_PROJECT/.venv/lib/python3.10/site-packages/IPython/core/interactiveshell.py\", line 2170, in showtraceback\n",
      "  File \"/home/karunesh/AIML_projects/7sem/DATA_ANALYSYS_PROJECTS/UBER_SUPPLY_DEMAND_PROJECT/.venv/lib/python3.10/site-packages/IPython/core/ultratb.py\", line 1457, in structured_traceback\n",
      "  File \"/home/karunesh/AIML_projects/7sem/DATA_ANALYSYS_PROJECTS/UBER_SUPPLY_DEMAND_PROJECT/.venv/lib/python3.10/site-packages/IPython/core/ultratb.py\", line 1348, in structured_traceback\n",
      "  File \"/home/karunesh/AIML_projects/7sem/DATA_ANALYSYS_PROJECTS/UBER_SUPPLY_DEMAND_PROJECT/.venv/lib/python3.10/site-packages/IPython/core/ultratb.py\", line 1195, in structured_traceback\n",
      "  File \"/home/karunesh/AIML_projects/7sem/DATA_ANALYSYS_PROJECTS/UBER_SUPPLY_DEMAND_PROJECT/.venv/lib/python3.10/site-packages/IPython/core/ultratb.py\", line 1085, in format_exception_as_a_whole\n",
      "  File \"/home/karunesh/AIML_projects/7sem/DATA_ANALYSYS_PROJECTS/UBER_SUPPLY_DEMAND_PROJECT/.venv/lib/python3.10/site-packages/IPython/core/ultratb.py\", line 1136, in get_records\n",
      "  File \"/home/karunesh/AIML_projects/7sem/DATA_ANALYSYS_PROJECTS/UBER_SUPPLY_DEMAND_PROJECT/.venv/lib/python3.10/site-packages/pygments/styles/__init__.py\", line 47, in get_style_by_name\n",
      "pygments.util.ClassNotFound: Could not find style module 'pygments.styles.default', though it should be builtin.\n"
     ]
    }
   ],
   "source": [
    "#5. Feature Engineering (Code)\n",
    "df['hour'] = df['Request timestamp'].dt.hour\n",
    "df['day'] = df['Request timestamp'].dt.date\n",
    "df['weekday'] = df['Request timestamp'].dt.day_name()\n"
   ]
  },
  {
   "cell_type": "markdown",
   "id": "fdef4cd1",
   "metadata": {},
   "source": [
    "6. Demand and Supply Visualization (Code)"
   ]
  },
  {
   "cell_type": "code",
   "execution_count": 5,
   "id": "2a339784",
   "metadata": {},
   "outputs": [
    {
     "name": "stdout",
     "output_type": "stream",
     "text": [
      "Unexpected exception formatting exception. Falling back to standard exception\n"
     ]
    },
    {
     "name": "stderr",
     "output_type": "stream",
     "text": [
      "Traceback (most recent call last):\n",
      "  File \"/home/karunesh/AIML_projects/7sem/DATA_ANALYSYS_PROJECTS/UBER_SUPPLY_DEMAND_PROJECT/.venv/lib/python3.10/site-packages/IPython/core/interactiveshell.py\", line 3579, in run_code\n",
      "  File \"/tmp/ipykernel_1501/3678443014.py\", line 2, in <module>\n",
      "    sns.countplot(data=df, x='hour', hue='Status')\n",
      "NameError: name 'sns' is not defined\n",
      "\n",
      "During handling of the above exception, another exception occurred:\n",
      "\n",
      "Traceback (most recent call last):\n",
      "  File \"/home/karunesh/AIML_projects/7sem/DATA_ANALYSYS_PROJECTS/UBER_SUPPLY_DEMAND_PROJECT/.venv/lib/python3.10/site-packages/pygments/styles/__init__.py\", line 45, in get_style_by_name\n",
      "ModuleNotFoundError: No module named 'pygments.styles.default'\n",
      "\n",
      "During handling of the above exception, another exception occurred:\n",
      "\n",
      "Traceback (most recent call last):\n",
      "  File \"/home/karunesh/AIML_projects/7sem/DATA_ANALYSYS_PROJECTS/UBER_SUPPLY_DEMAND_PROJECT/.venv/lib/python3.10/site-packages/IPython/core/interactiveshell.py\", line 2170, in showtraceback\n",
      "  File \"/home/karunesh/AIML_projects/7sem/DATA_ANALYSYS_PROJECTS/UBER_SUPPLY_DEMAND_PROJECT/.venv/lib/python3.10/site-packages/IPython/core/ultratb.py\", line 1457, in structured_traceback\n",
      "  File \"/home/karunesh/AIML_projects/7sem/DATA_ANALYSYS_PROJECTS/UBER_SUPPLY_DEMAND_PROJECT/.venv/lib/python3.10/site-packages/IPython/core/ultratb.py\", line 1348, in structured_traceback\n",
      "  File \"/home/karunesh/AIML_projects/7sem/DATA_ANALYSYS_PROJECTS/UBER_SUPPLY_DEMAND_PROJECT/.venv/lib/python3.10/site-packages/IPython/core/ultratb.py\", line 1195, in structured_traceback\n",
      "  File \"/home/karunesh/AIML_projects/7sem/DATA_ANALYSYS_PROJECTS/UBER_SUPPLY_DEMAND_PROJECT/.venv/lib/python3.10/site-packages/IPython/core/ultratb.py\", line 1085, in format_exception_as_a_whole\n",
      "  File \"/home/karunesh/AIML_projects/7sem/DATA_ANALYSYS_PROJECTS/UBER_SUPPLY_DEMAND_PROJECT/.venv/lib/python3.10/site-packages/IPython/core/ultratb.py\", line 1136, in get_records\n",
      "  File \"/home/karunesh/AIML_projects/7sem/DATA_ANALYSYS_PROJECTS/UBER_SUPPLY_DEMAND_PROJECT/.venv/lib/python3.10/site-packages/pygments/styles/__init__.py\", line 47, in get_style_by_name\n",
      "pygments.util.ClassNotFound: Could not find style module 'pygments.styles.default', though it should be builtin.\n"
     ]
    }
   ],
   "source": [
    "# Requests per hour by status\n",
    "sns.countplot(data=df, x='hour', hue='Status')\n",
    "plt.title(\"Requests by Hour and Status\")\n",
    "plt.xlabel(\"Hour of the Day\")\n",
    "plt.ylabel(\"Number of Requests\")\n",
    "plt.show()\n"
   ]
  },
  {
   "cell_type": "code",
   "execution_count": 6,
   "id": "f20aa288",
   "metadata": {},
   "outputs": [
    {
     "name": "stdout",
     "output_type": "stream",
     "text": [
      "Unexpected exception formatting exception. Falling back to standard exception\n"
     ]
    },
    {
     "name": "stderr",
     "output_type": "stream",
     "text": [
      "Traceback (most recent call last):\n",
      "  File \"/home/karunesh/AIML_projects/7sem/DATA_ANALYSYS_PROJECTS/UBER_SUPPLY_DEMAND_PROJECT/.venv/lib/python3.10/site-packages/IPython/core/interactiveshell.py\", line 3579, in run_code\n",
      "  File \"/tmp/ipykernel_1501/3657949272.py\", line 2, in <module>\n",
      "    sns.countplot(data=df, x='Pickup point', hue='Status')\n",
      "NameError: name 'sns' is not defined\n",
      "\n",
      "During handling of the above exception, another exception occurred:\n",
      "\n",
      "Traceback (most recent call last):\n",
      "  File \"/home/karunesh/AIML_projects/7sem/DATA_ANALYSYS_PROJECTS/UBER_SUPPLY_DEMAND_PROJECT/.venv/lib/python3.10/site-packages/pygments/styles/__init__.py\", line 45, in get_style_by_name\n",
      "ModuleNotFoundError: No module named 'pygments.styles.default'\n",
      "\n",
      "During handling of the above exception, another exception occurred:\n",
      "\n",
      "Traceback (most recent call last):\n",
      "  File \"/home/karunesh/AIML_projects/7sem/DATA_ANALYSYS_PROJECTS/UBER_SUPPLY_DEMAND_PROJECT/.venv/lib/python3.10/site-packages/IPython/core/interactiveshell.py\", line 2170, in showtraceback\n",
      "  File \"/home/karunesh/AIML_projects/7sem/DATA_ANALYSYS_PROJECTS/UBER_SUPPLY_DEMAND_PROJECT/.venv/lib/python3.10/site-packages/IPython/core/ultratb.py\", line 1457, in structured_traceback\n",
      "  File \"/home/karunesh/AIML_projects/7sem/DATA_ANALYSYS_PROJECTS/UBER_SUPPLY_DEMAND_PROJECT/.venv/lib/python3.10/site-packages/IPython/core/ultratb.py\", line 1348, in structured_traceback\n",
      "  File \"/home/karunesh/AIML_projects/7sem/DATA_ANALYSYS_PROJECTS/UBER_SUPPLY_DEMAND_PROJECT/.venv/lib/python3.10/site-packages/IPython/core/ultratb.py\", line 1195, in structured_traceback\n",
      "  File \"/home/karunesh/AIML_projects/7sem/DATA_ANALYSYS_PROJECTS/UBER_SUPPLY_DEMAND_PROJECT/.venv/lib/python3.10/site-packages/IPython/core/ultratb.py\", line 1085, in format_exception_as_a_whole\n",
      "  File \"/home/karunesh/AIML_projects/7sem/DATA_ANALYSYS_PROJECTS/UBER_SUPPLY_DEMAND_PROJECT/.venv/lib/python3.10/site-packages/IPython/core/ultratb.py\", line 1136, in get_records\n",
      "  File \"/home/karunesh/AIML_projects/7sem/DATA_ANALYSYS_PROJECTS/UBER_SUPPLY_DEMAND_PROJECT/.venv/lib/python3.10/site-packages/pygments/styles/__init__.py\", line 47, in get_style_by_name\n",
      "pygments.util.ClassNotFound: Could not find style module 'pygments.styles.default', though it should be builtin.\n"
     ]
    }
   ],
   "source": [
    "# Status by Pickup Point\n",
    "sns.countplot(data=df, x='Pickup point', hue='Status')\n",
    "plt.title(\"Status by Pickup Point\")\n",
    "plt.xlabel(\"Pickup Point\")\n",
    "plt.ylabel(\"Number of Requests\")\n",
    "plt.show()\n"
   ]
  },
  {
   "cell_type": "markdown",
   "id": "4ae4fa49",
   "metadata": {},
   "source": [
    "7. Key Observations (Markdown)\n"
   ]
  },
  {
   "cell_type": "markdown",
   "id": "0ecba55f",
   "metadata": {},
   "source": [
    "## Key Observations\n",
    "\n",
    "- There is a significant supply-demand gap during **early morning (5–9 AM)** and **night (9 PM–12 AM)**.\n",
    "- **Cancellations** are most frequent in the **morning hours** from the **City to Airport**.\n",
    "- **No cars available** is a major issue at night, especially **from Airport to City**.\n"
   ]
  },
  {
   "cell_type": "markdown",
   "id": "1377acb3",
   "metadata": {},
   "source": [
    "8. Recommendations (Markdown)"
   ]
  },
  {
   "cell_type": "markdown",
   "id": "0fcf7a1d",
   "metadata": {},
   "source": [
    "## Recommendations\n",
    "\n",
    "- Implement **incentives for drivers** during high-demand morning hours.\n",
    "- Encourage **night shifts** or introduce a **bonus system** for servicing late-night requests from the airport.\n",
    "- Monitor ride request trends periodically to **adjust driver distribution dynamically**.\n"
   ]
  },
  {
   "cell_type": "markdown",
   "id": "b5f47973",
   "metadata": {},
   "source": [
    "9. Conclusion (Markdown)"
   ]
  },
  {
   "cell_type": "markdown",
   "id": "f2b34b2b",
   "metadata": {},
   "source": [
    "## Conclusion\n",
    "\n",
    "The analysis clearly highlights operational inefficiencies leading to unmet rider demand at specific times and routes. Addressing driver availability and incentivizing travel during rush hours can help Uber close the demand-supply gap and improve customer satisfaction.\n"
   ]
  },
  {
   "cell_type": "markdown",
   "id": "00f563f5",
   "metadata": {},
   "source": []
  },
  {
   "cell_type": "markdown",
   "id": "7294a501",
   "metadata": {},
   "source": []
  }
 ],
 "metadata": {
  "kernelspec": {
   "display_name": ".venv",
   "language": "python",
   "name": "python3"
  },
  "language_info": {
   "codemirror_mode": {
    "name": "ipython",
    "version": 3
   },
   "file_extension": ".py",
   "mimetype": "text/x-python",
   "name": "python",
   "nbconvert_exporter": "python",
   "pygments_lexer": "ipython3",
   "version": "3.10.12"
  }
 },
 "nbformat": 4,
 "nbformat_minor": 5
}
